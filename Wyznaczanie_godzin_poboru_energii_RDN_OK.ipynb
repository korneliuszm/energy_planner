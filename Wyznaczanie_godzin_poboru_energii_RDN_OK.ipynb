{
  "nbformat": 4,
  "nbformat_minor": 0,
  "metadata": {
    "colab": {
      "provenance": [],
      "authorship_tag": "ABX9TyOgUGSV0MHeneq6pGtZk0iQ",
      "include_colab_link": true
    },
    "kernelspec": {
      "name": "python3",
      "display_name": "Python 3"
    },
    "language_info": {
      "name": "python"
    }
  },
  "cells": [
    {
      "cell_type": "markdown",
      "metadata": {
        "id": "view-in-github",
        "colab_type": "text"
      },
      "source": [
        "<a href=\"https://colab.research.google.com/github/korneliuszm/energy_planner/blob/main/Wyznaczanie_godzin_poboru_energii_RDN_OK.ipynb\" target=\"_parent\"><img src=\"https://colab.research.google.com/assets/colab-badge.svg\" alt=\"Open In Colab\"/></a>"
      ]
    },
    {
      "cell_type": "code",
      "source": [
        "%reset -f\n",
        "#Ważne informacje\n",
        "#Pobór energii przez zmywarkę - 0.47; 0.04; 0.45 kWh\n",
        "#Pobór energii przez pralkę (40*C, suszenie 1) - 0.5; 0.08; 0.08; 1; 0.92 kWh\n",
        "washing_machine_energy_consumption = [0.5, 0.08, 0.08, 1, 0.92]\n",
        "dishwasher_energy_consumption = [0.47, 0.04, 0.45]\n",
        "\n",
        "day_distribution_price = 0.2817 + 0.00618 + 0.0314 + 0.095 + 0.005\n",
        "night_distribution_price = 0.0927 + 0.00618 + 0.0314 + 0.095 + 0.005\n",
        "\n",
        "#Taryfa standardowa Enea\n",
        "old_day_price = ( (0.5 + 0.3050 + 0.00496 + 0.0095 ) * 1.23 )\n",
        "old_night_price = ( (0.5 + 0.1004 + 0.00496 + 0.0242 ) * 1.23 )\n",
        "\n",
        "import requests\n",
        "import pandas as pd\n",
        "import json\n",
        "from datetime import datetime, timedelta\n",
        "import pytz\n",
        "\n",
        "# Get the current time in your timezone\n",
        "your_timezone = pytz.timezone('Europe/Warsaw')  # Replace with your timezone\n",
        "now = datetime.now(your_timezone)\n",
        "\n",
        "# Floor the current time to the nearest 0 minutes\n",
        "floored_time = now.replace(minute=(now.minute // 60), second=0, microsecond=0)\n",
        "\n",
        "r_today = requests.get('https://energy-instrat-api.azurewebsites.net/api/prices/energy_price_rdn_hourly')\n",
        "\n",
        "df_today = pd.json_normalize(r_today.json())"
      ],
      "metadata": {
        "id": "WhY6rMXDUpFs"
      },
      "execution_count": 419,
      "outputs": []
    },
    {
      "cell_type": "code",
      "source": [
        "combined_df = df_today.copy()"
      ],
      "metadata": {
        "id": "z3GJir5Ku7l0"
      },
      "execution_count": 420,
      "outputs": []
    },
    {
      "cell_type": "code",
      "execution_count": 421,
      "metadata": {
        "id": "-2CapGrUBT4t",
        "colab": {
          "base_uri": "https://localhost:8080/"
        },
        "outputId": "a958ee30-52b4-4980-b91b-a8dff7b2beba"
      },
      "outputs": [
        {
          "output_type": "stream",
          "name": "stderr",
          "text": [
            "<ipython-input-421-69008958fa13>:26: FutureWarning: Setting an item of incompatible dtype is deprecated and will raise an error in a future version of pandas. Value '1.0079357999999998' has dtype incompatible with int64, please explicitly cast to a compatible dtype first.\n",
            "  combined_df.loc[index, 'old_price'] = old_day_price\n"
          ]
        }
      ],
      "source": [
        "combined_df = df_today.copy()\n",
        "\n",
        "\n",
        "combined_df['date'] = pd.to_datetime(pd.to_datetime(combined_df['date']))\n",
        "\n",
        "combined_df = combined_df.drop(['index','fixing_i.volume', 'fixing_ii.price', 'fixing_ii.volume'], axis=1, errors='ignore')\n",
        "combined_df = combined_df[combined_df['date'].dt.minute == 0].reset_index()\n",
        "\n",
        "#Przelicz na grosze\n",
        "combined_df['fixing_i.price'] = combined_df['fixing_i.price']/1000\n",
        "\n",
        "#Dodanie nowych kolumn\n",
        "combined_df['dishwasher'] = 0                                                   #0 - nieaktywne, 1 -  najtańszy prąd\n",
        "combined_df['washing_machine'] = 0                                              #0 - nieaktywne, 1 -  najtańszy prąd\n",
        "combined_df['water_heating'] = 0                                                #0 - nieaktywne, 1 -  pompa ciepła, 2 - grzałka\n",
        "combined_df['storage_heater'] = 0                                               #0 - nieaktywne, 1 -  najtańszy prąd\n",
        "combined_df['car_charging'] = 0                                                 #0 - nieaktywne, 1 -  ładuj\n",
        "combined_df['current_hour'] = 0\n",
        "combined_df['old_price'] = 0                                                    #stara cena energii\n",
        "\n",
        "\n",
        "#Dodanie cen dystrybucji\n",
        "for index, row in combined_df.iterrows():\n",
        "  if (6 <= row['date'].hour < 13) or (15 <= row['date'].hour < 22):\n",
        "    combined_df.loc[index, 'fixing_i.price_with_distribution'] =(row['fixing_i.price'] + day_distribution_price)*1.23\n",
        "    combined_df.loc[index, 'old_price'] = old_day_price\n",
        "  else:\n",
        "    combined_df.loc[index, 'fixing_i.price_with_distribution'] = row['fixing_i.price'] + (night_distribution_price)*1.23\n",
        "    combined_df.loc[index, 'old_price'] = old_night_price\n",
        "\n",
        "\n",
        "combined_df['date'] = combined_df['date'].dt.tz_localize(None)\n",
        "combined_df.reset_index(drop=True, inplace=True)\n",
        "\n",
        "#kopia do wizualizacji\n",
        "full_df = combined_df.copy()\n",
        "full_df.to_csv('full_df.csv', index=False)\n",
        "\n",
        "#Usunięcie wierszy z przeszłości do przyszłych wyszukiwań\n",
        "now_localize = pd.to_datetime(floored_time).tz_localize(None)\n",
        "\n",
        "future_df = combined_df[combined_df['date'] >= now_localize]\n",
        "future_df.reset_index(drop=True, inplace=True)\n",
        "\n",
        "if future_df['fixing_i.price'].isnull().any():\n",
        "  print(\"Warning: Some cells in the 'cena' column are empty.\")"
      ]
    },
    {
      "cell_type": "code",
      "source": [
        "# Cena dla aktualnej godziny\n",
        "def actual_fixing_i_price():\n",
        "  formatted_time = floored_time.strftime('%Y-%m-%d %H:%M')\n",
        "\n",
        "  try:\n",
        "    value_rdn_pln_with_distribution = combined_df.loc[combined_df['date'].dt.strftime('%Y-%m-%d %H:%M') == formatted_time, 'fixing_i.price_with_distribution'].iloc[0]\n",
        "    value_rdn_pln = combined_df.loc[combined_df['date'].dt.strftime('%Y-%m-%d %H:%M') == formatted_time, 'fixing_i.price'].iloc[0]\n",
        "\n",
        "    return value_rdn_pln, value_rdn_pln_with_distribution\n",
        "  except IndexError:\n",
        "    return None"
      ],
      "metadata": {
        "id": "n1sTdNvNNRK_"
      },
      "execution_count": 422,
      "outputs": []
    },
    {
      "cell_type": "code",
      "source": [
        "# Znajduje najlepsze godziny dla pralki\n",
        "\n",
        "def find_best_price_washing_machine():\n",
        "  best_price_value = 10\n",
        "\n",
        "  for i in range(len(future_df)-4):\n",
        "    best_price_value_temp = 0\n",
        "\n",
        "    for j in range(5):\n",
        "      best_price_value_temp = best_price_value_temp + future_df.iloc[i+j]['fixing_i.price_with_distribution'] * washing_machine_energy_consumption[j]\n",
        "\n",
        "    if best_price_value_temp < best_price_value:\n",
        "      best_price_value = best_price_value_temp\n",
        "      best_price_index = i\n",
        "\n",
        "  return best_price_value, best_price_index, future_df.iloc[best_price_index]['date']"
      ],
      "metadata": {
        "id": "o2I-UdQIxdHH"
      },
      "execution_count": 423,
      "outputs": []
    },
    {
      "cell_type": "code",
      "source": [
        "# Znajduje najlepsze godziny dla zmywarki\n",
        "\n",
        "def find_best_price_dishwasher():\n",
        "  best_price_value = 10\n",
        "\n",
        "  for i in range(len(future_df)-2):\n",
        "    best_price_value_temp = 0\n",
        "\n",
        "    for j in range(3):\n",
        "      best_price_value_temp = best_price_value_temp + future_df.iloc[i+j]['fixing_i.price_with_distribution'] * dishwasher_energy_consumption[j]\n",
        "\n",
        "    if best_price_value_temp < best_price_value:\n",
        "      best_price_value = best_price_value_temp\n",
        "      best_price_index = i\n",
        "\n",
        "  return best_price_value, best_price_index, future_df.iloc[best_price_index]['date']"
      ],
      "metadata": {
        "id": "MCsEL3-pCOd6"
      },
      "execution_count": 424,
      "outputs": []
    },
    {
      "cell_type": "code",
      "source": [
        "# Dodawanie znaczników w tablicy\n",
        "def add_markers():\n",
        "  #Zmywarka\n",
        "  value, dishwasher_idx, dishwasher_time = find_best_price_dishwasher()\n",
        "\n",
        "  for i in range(len(combined_df)):\n",
        "    if combined_df.loc[i, 'date'] == dishwasher_time:\n",
        "      for j in range(3):\n",
        "        combined_df.loc[i+j, 'dishwasher'] = 1\n",
        "\n",
        "  #Pralka\n",
        "  value, washing_machine_idx, washing_machine_time = find_best_price_washing_machine()\n",
        "\n",
        "  for i in range(len(combined_df)):\n",
        "    if combined_df.loc[i, 'date'] == washing_machine_time:\n",
        "      for j in range(5):\n",
        "        combined_df.loc[i+j, 'washing_machine'] = 1\n",
        "\n",
        "  #Ciepła woda\n",
        "  water_heating_time = future_df.sort_values('fixing_i.price_with_distribution').head(10)\n",
        "\n",
        "  top_4_prices = water_heating_time['fixing_i.price_with_distribution'].nlargest(4)\n",
        "  average_top_4 = top_4_prices.mean()\n",
        "\n",
        "  #Sprawdź czy warto odpalić grzałkę\n",
        "\n",
        "\n",
        "  for i in range(len(combined_df)):\n",
        "    if combined_df.loc[i, 'date'] in water_heating_time['date'].values:\n",
        "      if average_top_4 > 2*water_heating_time.iloc[0]['fixing_i.price_with_distribution']:\n",
        "        print( \"Odpalamy grzałkę na 1 godzinę\")\n",
        "        combined_df.loc[i, 'water_heating'] = 2\n",
        "      else:\n",
        "        combined_df.loc[i, 'water_heating'] = 1\n",
        "\n",
        "  #Grzejniki (jedna najtańsza godzina)\n",
        "  smallest_prices = future_df.nsmallest(24, 'fixing_i.price_with_distribution')\n",
        "\n",
        "  # Mark them in the storage_heater column with a number based on the value\n",
        "  for i, row in smallest_prices.iterrows():\n",
        "    for j, combined_row in combined_df.iterrows():\n",
        "      if combined_row['date'] == row['date']:\n",
        "        combined_df.loc[j, 'storage_heater'] = smallest_prices.index.get_loc(i) + 1  # Assign a number based on the rank\n",
        "\n",
        "  # Zaznacz aktualną godzinę/datę\n",
        "  for index, row in combined_df.iterrows():\n",
        "    if row['date'].hour == now.hour and row['date'].day == now.day:\n",
        "      combined_df.loc[index, 'current_hour'] = 1\n",
        "\n",
        "  return dishwasher_idx, washing_machine_idx"
      ],
      "metadata": {
        "id": "iIvxgTHZYwx1"
      },
      "execution_count": 425,
      "outputs": []
    },
    {
      "cell_type": "code",
      "source": [
        "# Dodaje znaczniki do tablicy full_df\n",
        "dishwasher_start, washing_machine_start = add_markers()\n"
      ],
      "metadata": {
        "id": "6eXsmgpncsyr"
      },
      "execution_count": 426,
      "outputs": []
    },
    {
      "cell_type": "code",
      "source": [
        "#Zapisz cały df do csv\n",
        "combined_df.to_csv('combined_df.csv', index=False)\n",
        "\n",
        "#Zapisz czasy do startu urządzeń\n",
        "data = {\n",
        "    \"dishwasher_start\": dishwasher_start,\n",
        "    \"washing_machine_start\": washing_machine_start+5\n",
        "}\n",
        "start_time_json = json.dumps(data)\n",
        "\n",
        "#Zapisz json z parametrami aktualnej godziny\n",
        "current_hour_json = full_df[(full_df['date'].dt.hour == now.hour) & (full_df['date'].dt.day == now.day)].to_json(orient='records')"
      ],
      "metadata": {
        "id": "MyUxcdp9cuJF"
      },
      "execution_count": 427,
      "outputs": []
    }
  ]
}